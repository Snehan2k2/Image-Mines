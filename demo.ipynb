{
 "cells": [
  {
   "cell_type": "code",
   "execution_count": 4,
   "metadata": {},
   "outputs": [],
   "source": [
    "import pickle\n",
    "\n",
    "def load_pkl(file_path):\n",
    "    with open(file_path, 'rb') as file:\n",
    "        return pickle.load(file)\n",
    "    \n",
    "def load_image(img_path):\n",
    "    img = Image.open(img_path)\n",
    "    return img"
   ]
  },
  {
   "cell_type": "code",
   "execution_count": 7,
   "metadata": {},
   "outputs": [],
   "source": [
    "from PIL import Image\n",
    "from crops.mines.image_mines import get_mines\n",
    "from crops.mines.plot_utils import draw_blocks\n",
    "\n",
    "# input question and image path\n",
    "\n",
    "qs = \"what does it say in the bottom right corner?\"\n",
    "image_path = \"./data/post-letter.jpg\"\n",
    "image = load_image(image_path)\n",
    "\n",
    "# loading the pickle file which has stored attention values\n",
    "\n",
    "attn_values = load_pkl('./data/output/attn.pkl')\n",
    "\n",
    "image_config = attn_values[0].shape\n",
    "image_attn = attn_values[0]\n",
    "\n",
    "bounding_boxes, clusters = get_mines(image_attn, image_config[0], image_config[1], min_patch_for_mine=4, max_image_mines = 3, max_search_radius=min(image_config[0], image_config[1])/2, cluster_thresh_frac=0.2, apply_gaussian_blur=1)\n",
    "\n",
    "# the output image folder with bounding boxes is stored at ./data/output/0\n",
    "draw_blocks(image, bounding_boxes, image_config, \"./data/output\", 0, attn_values[0][1], upscale_crops=True, delta=15, siglip=False, draw_bool=True) "
   ]
  }
 ],
 "metadata": {
  "kernelspec": {
   "display_name": "llava",
   "language": "python",
   "name": "python3"
  },
  "language_info": {
   "codemirror_mode": {
    "name": "ipython",
    "version": 3
   },
   "file_extension": ".py",
   "mimetype": "text/x-python",
   "name": "python",
   "nbconvert_exporter": "python",
   "pygments_lexer": "ipython3",
   "version": "3.10.12"
  }
 },
 "nbformat": 4,
 "nbformat_minor": 2
}
