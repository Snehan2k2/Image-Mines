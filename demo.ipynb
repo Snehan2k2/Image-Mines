{
 "cells": [
  {
   "cell_type": "code",
   "execution_count": null,
   "metadata": {},
   "outputs": [],
   "source": [
    "import os\n",
    "\n",
    "model_path = os.path.expanduser(\"lmms-lab/llama3-llava-next-8b\")"
   ]
  }
 ],
 "metadata": {
  "kernelspec": {
   "display_name": "mines",
   "language": "python",
   "name": "python3"
  },
  "language_info": {
   "name": "python",
   "version": "3.10.12"
  }
 },
 "nbformat": 4,
 "nbformat_minor": 2
}
